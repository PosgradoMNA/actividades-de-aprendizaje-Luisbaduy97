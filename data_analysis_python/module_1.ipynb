{
 "cells": [
  {
   "cell_type": "markdown",
   "metadata": {},
   "source": [
    "# Module 1 Data analysis with python\n",
    "\n",
    "## ¿Por que al análisis de datos?\n",
    "\n",
    "- Los datos están en todos lados\n",
    "- Data analysis/science ayuda a responder preguntas\n",
    "- Ayuda a descubrir información útil\n",
    "\n",
    "## Understanding the data\n",
    "\n",
    "Utilizaremos un dataset de autos con diferentes atributos y se busca utilizar un modelo para predecir el precio del auto"
   ]
  }
 ],
 "metadata": {
  "language_info": {
   "name": "python"
  },
  "orig_nbformat": 4
 },
 "nbformat": 4,
 "nbformat_minor": 2
}
