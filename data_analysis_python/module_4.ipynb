{
 "cells": [
  {
   "cell_type": "markdown",
   "id": "b90f05ee-3093-46fa-90f9-782ebd9a02e4",
   "metadata": {},
   "source": [
    "# Module 4 Data analysis with python\n",
    "\n",
    "## Alumno: Luis Jose Navarrete Baduy\n",
    "## Matricula: A01793919\n",
    "## Profesora: María de la Paz Rico Fernández"
   ]
  },
  {
   "cell_type": "code",
   "execution_count": 1,
   "id": "d74983dc-6315-4134-a39b-42d9b5586b59",
   "metadata": {},
   "outputs": [],
   "source": [
    "import seaborn as sns\n",
    "import pandas as pd\n",
    "import numpy as np\n",
    "import matplotlib.pyplot as plt\n",
    "from sklearn.linear_model import LinearRegression"
   ]
  },
  {
   "cell_type": "markdown",
   "id": "2cd3e934-0e1b-4aae-9418-c3f3bd2edf0b",
   "metadata": {},
   "source": [
    "### Simple Linear Regression and Multiple LR\n",
    "\n",
    "La regresion lineal simple nos permite realizar la prediccion entre la variable independiente (X) y la variable dependiente (Y) la variable X trata de encontrar el coeficiente y la pendiente para minimizar el error entre la prediccion y el valor actual Y.\n",
    "\n"
   ]
  },
  {
   "cell_type": "code",
   "execution_count": 2,
   "id": "a82c11bc-4045-4a34-b299-40a4bd98412b",
   "metadata": {},
   "outputs": [],
   "source": [
    "path = 'https://cf-courses-data.s3.us.cloud-object-storage.appdomain.cloud/IBMDeveloperSkillsNetwork-DA0101EN-SkillsNetwork/labs/Data%20files/automobileEDA.csv'\n",
    "df = pd.read_csv(path)"
   ]
  },
  {
   "cell_type": "markdown",
   "id": "65ce5e22-bd77-4ce8-a86f-ca600941eea9",
   "metadata": {},
   "source": [
    "Se declara el modelo a utilizar y las variable independiente y dependiente con lo que se va a entrenar el modelo"
   ]
  },
  {
   "cell_type": "code",
   "execution_count": 4,
   "id": "9fb96d4e-219f-4cf4-bade-11516cf895ab",
   "metadata": {},
   "outputs": [
    {
     "data": {
      "text/plain": [
       "LinearRegression()"
      ]
     },
     "execution_count": 4,
     "metadata": {},
     "output_type": "execute_result"
    }
   ],
   "source": [
    "lm = LinearRegression()\n",
    "X = df[['highway-mpg']]\n",
    "Y = df[['price']]\n",
    "lm.fit(X, Y)"
   ]
  },
  {
   "cell_type": "markdown",
   "id": "7628176f-208b-4842-aaef-8a4d18513b9b",
   "metadata": {},
   "source": [
    "Permite realizar la prediccion usando el modelo entrenado"
   ]
  },
  {
   "cell_type": "code",
   "execution_count": 5,
   "id": "07bc5091-0e68-455c-98aa-611aec9502f0",
   "metadata": {},
   "outputs": [],
   "source": [
    "yhat = lm.predict(X)"
   ]
  },
  {
   "cell_type": "markdown",
   "id": "5d9145b7-fd11-4474-b8c4-61a20a5d816e",
   "metadata": {},
   "source": [
    "Imprime la pendiente o el parametro b0 y los coeficientes en este caso es b1"
   ]
  },
  {
   "cell_type": "code",
   "execution_count": 6,
   "id": "b51ea8ee-01ed-417a-a558-22770e19ccbc",
   "metadata": {},
   "outputs": [
    {
     "data": {
      "text/plain": [
       "(array([38423.30585816]), array([[-821.73337832]]))"
      ]
     },
     "execution_count": 6,
     "metadata": {},
     "output_type": "execute_result"
    }
   ],
   "source": [
    "lm.intercept_, lm.coef_"
   ]
  },
  {
   "cell_type": "markdown",
   "id": "a5479ab4-93bf-4734-ab6a-6f354f806929",
   "metadata": {},
   "source": [
    "### Multiple Linear Regression"
   ]
  },
  {
   "cell_type": "code",
   "execution_count": 8,
   "id": "d7bc2cfa-9bb6-4a9e-a149-3a44a5ca716e",
   "metadata": {},
   "outputs": [
    {
     "data": {
      "text/plain": [
       "LinearRegression()"
      ]
     },
     "execution_count": 8,
     "metadata": {},
     "output_type": "execute_result"
    }
   ],
   "source": [
    "lm = LinearRegression()\n",
    "Z = df[['horsepower', 'curb-weight', 'engine-size', 'highway-mpg']]\n",
    "Y = df[['price']]\n",
    "lm.fit(Z, Y)"
   ]
  },
  {
   "cell_type": "code",
   "execution_count": 9,
   "id": "b81f6636-a06b-4972-80cb-22e37b2be82a",
   "metadata": {},
   "outputs": [],
   "source": [
    "yhat = lm.predict(Z)"
   ]
  },
  {
   "cell_type": "code",
   "execution_count": 10,
   "id": "0bcc3b2f-7e4a-4bad-9fb6-6f5f634df183",
   "metadata": {},
   "outputs": [
    {
     "data": {
      "text/plain": [
       "(array([-15806.62462633]),\n",
       " array([[53.49574423,  4.70770099, 81.53026382, 36.05748882]]))"
      ]
     },
     "execution_count": 10,
     "metadata": {},
     "output_type": "execute_result"
    }
   ],
   "source": [
    "lm.intercept_, lm.coef_"
   ]
  },
  {
   "cell_type": "code",
   "execution_count": null,
   "id": "15b30f74-9c45-408f-914e-84bbf3af9874",
   "metadata": {},
   "outputs": [],
   "source": []
  }
 ],
 "metadata": {
  "kernelspec": {
   "display_name": "Python 3 (ipykernel)",
   "language": "python",
   "name": "python3"
  },
  "language_info": {
   "codemirror_mode": {
    "name": "ipython",
    "version": 3
   },
   "file_extension": ".py",
   "mimetype": "text/x-python",
   "name": "python",
   "nbconvert_exporter": "python",
   "pygments_lexer": "ipython3",
   "version": "3.9.7"
  }
 },
 "nbformat": 4,
 "nbformat_minor": 5
}
