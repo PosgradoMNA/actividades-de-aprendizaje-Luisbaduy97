{
 "cells": [
  {
   "cell_type": "markdown",
   "metadata": {},
   "source": [
    "# Notas del curso python for data science module 1"
   ]
  },
  {
   "cell_type": "code",
   "execution_count": 2,
   "metadata": {},
   "outputs": [
    {
     "name": "stdout",
     "output_type": "stream",
     "text": [
      "Hello Python 101\n",
      "Hello\n",
      "World!\n"
     ]
    }
   ],
   "source": [
    "# This will display the value in the ouput cell\n",
    "print('Hello Python 101')\n",
    "print(\"Hello\\nWorld!\")"
   ]
  },
  {
   "cell_type": "markdown",
   "metadata": {},
   "source": [
    "## Data types in python"
   ]
  },
  {
   "cell_type": "code",
   "execution_count": 6,
   "metadata": {},
   "outputs": [
    {
     "name": "stdout",
     "output_type": "stream",
     "text": [
      "This is an <class 'int'>\n",
      "This is an <class 'float'>\n",
      "This is an <class 'bool'>\n",
      "True\n"
     ]
    }
   ],
   "source": [
    "print('This is an', type(1))\n",
    "print('This is an', type(1.0))\n",
    "print('This is an', type(False))\n",
    "# Convert integer to boolean\n",
    "print(bool(1))"
   ]
  },
  {
   "cell_type": "markdown",
   "metadata": {},
   "source": [
    "## Expressions and Variables\n",
    "\n",
    "Python sigue la jerarquia de operaciones asi que utiliza operaciones aritmeticas basicas como +-/*"
   ]
  },
  {
   "cell_type": "code",
   "execution_count": 8,
   "metadata": {},
   "outputs": [
    {
     "name": "stdout",
     "output_type": "stream",
     "text": [
      "40\n",
      "-10\n",
      "400\n",
      "1.0\n",
      "1\n"
     ]
    }
   ],
   "source": [
    "print(20+20)\n",
    "print(20-30)\n",
    "print(20*20)\n",
    "print(20/20)\n",
    "# Desde python 3 la division regresa un float, si se quiere el numero entero se utiliza el portador //\n",
    "print(20//20)"
   ]
  },
  {
   "cell_type": "markdown",
   "metadata": {},
   "source": [
    "Se pueden utilizar variables para almacenar valores"
   ]
  },
  {
   "cell_type": "code",
   "execution_count": 10,
   "metadata": {},
   "outputs": [
    {
     "name": "stdout",
     "output_type": "stream",
     "text": [
      "1\n",
      "610\n"
     ]
    }
   ],
   "source": [
    "my_variable = 1\n",
    "print(my_variable)\n",
    "# Se pueden realizar operaciones en las variables\n",
    "foo = 30 * 20 + 10\n",
    "print(foo)"
   ]
  }
 ],
 "metadata": {
  "interpreter": {
   "hash": "e7b3cfdbed4b8f25d753bb32bf35bb23d849df51286b88943800d9a0c0781f47"
  },
  "kernelspec": {
   "display_name": "Python 3.8.5 64-bit ('base': conda)",
   "language": "python",
   "name": "python3"
  },
  "language_info": {
   "codemirror_mode": {
    "name": "ipython",
    "version": 3
   },
   "file_extension": ".py",
   "mimetype": "text/x-python",
   "name": "python",
   "nbconvert_exporter": "python",
   "pygments_lexer": "ipython3",
   "version": "3.8.5"
  },
  "orig_nbformat": 4
 },
 "nbformat": 4,
 "nbformat_minor": 2
}
