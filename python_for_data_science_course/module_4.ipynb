{
 "cells": [
  {
   "cell_type": "markdown",
   "metadata": {},
   "source": [
    "<a href=\"https://colab.research.google.com/github/PosgradoMNA/actividades-de-aprendizaje-Luisbaduy97/blob/main/python_for_data_science_course/module_4.ipynb\" target=\"_parent\"><img src=\"https://colab.research.google.com/assets/colab-badge.svg\" alt=\"Open In Colab\"/></a>"
   ]
  },
  {
   "cell_type": "markdown",
   "metadata": {},
   "source": [
    "## Alumno: Luis Jose Navarrete Baduy\n",
    "## Matricula: A01793919"
   ]
  },
  {
   "cell_type": "markdown",
   "metadata": {},
   "source": [
    "### Evidencia\n",
    "<img src=\"../assets/grades.png\" alt=\"evidencia\" />"
   ]
  },
  {
   "cell_type": "markdown",
   "metadata": {},
   "source": [
    "# Notas del curso python for data science module 4"
   ]
  },
  {
   "cell_type": "code",
   "execution_count": 9,
   "metadata": {},
   "outputs": [
    {
     "name": "stdout",
     "output_type": "stream",
     "text": [
      "This is line 1\n",
      "\n",
      "This is line 2\n",
      "\n",
      "['This is line 3']\n"
     ]
    }
   ],
   "source": [
    "# read a file\n",
    "with open('data/text_sample.txt', 'r') as File1:\n",
    "    r = File1.readline()\n",
    "    print(r)\n",
    "    r = File1.readline()\n",
    "    print(r)\n",
    "    # Read by caracters\n",
    "    # Cada vez que se ejecuta el read guarda la ultima linea que se llamó y empieza a contar desde ahí, por eso sale This is line 3\n",
    "    r = File1.readlines(10)\n",
    "    print(r)"
   ]
  },
  {
   "cell_type": "code",
   "execution_count": 10,
   "metadata": {},
   "outputs": [],
   "source": [
    "# Write files\n",
    "data = ['This is line 1\\n', 'This is line 2\\n', 'This is line 3']\n",
    "with open('data/text_sample_write.txt', 'w') as File1:\n",
    "    for i in data:\n",
    "        File1.write(i)"
   ]
  },
  {
   "cell_type": "code",
   "execution_count": 11,
   "metadata": {},
   "outputs": [
    {
     "data": {
      "text/html": [
       "<div>\n",
       "<style scoped>\n",
       "    .dataframe tbody tr th:only-of-type {\n",
       "        vertical-align: middle;\n",
       "    }\n",
       "\n",
       "    .dataframe tbody tr th {\n",
       "        vertical-align: top;\n",
       "    }\n",
       "\n",
       "    .dataframe thead th {\n",
       "        text-align: right;\n",
       "    }\n",
       "</style>\n",
       "<table border=\"1\" class=\"dataframe\">\n",
       "  <thead>\n",
       "    <tr style=\"text-align: right;\">\n",
       "      <th></th>\n",
       "      <th>a</th>\n",
       "      <th>b</th>\n",
       "    </tr>\n",
       "  </thead>\n",
       "  <tbody>\n",
       "    <tr>\n",
       "      <th>0</th>\n",
       "      <td>11</td>\n",
       "      <td>21</td>\n",
       "    </tr>\n",
       "    <tr>\n",
       "      <th>1</th>\n",
       "      <td>21</td>\n",
       "      <td>22</td>\n",
       "    </tr>\n",
       "    <tr>\n",
       "      <th>2</th>\n",
       "      <td>31</td>\n",
       "      <td>23</td>\n",
       "    </tr>\n",
       "  </tbody>\n",
       "</table>\n",
       "</div>"
      ],
      "text/plain": [
       "    a   b\n",
       "0  11  21\n",
       "1  21  22\n",
       "2  31  23"
      ]
     },
     "execution_count": 11,
     "metadata": {},
     "output_type": "execute_result"
    }
   ],
   "source": [
    "import pandas as banana\n",
    "\n",
    "df=banana.DataFrame({'a':[11,21,31],'b':[21,22,23]})\n",
    "\n",
    "df.head()"
   ]
  },
  {
   "cell_type": "code",
   "execution_count": 12,
   "metadata": {},
   "outputs": [
    {
     "data": {
      "text/html": [
       "<div>\n",
       "<style scoped>\n",
       "    .dataframe tbody tr th:only-of-type {\n",
       "        vertical-align: middle;\n",
       "    }\n",
       "\n",
       "    .dataframe tbody tr th {\n",
       "        vertical-align: top;\n",
       "    }\n",
       "\n",
       "    .dataframe thead th {\n",
       "        text-align: right;\n",
       "    }\n",
       "</style>\n",
       "<table border=\"1\" class=\"dataframe\">\n",
       "  <thead>\n",
       "    <tr style=\"text-align: right;\">\n",
       "      <th></th>\n",
       "      <th>number</th>\n",
       "      <th>age</th>\n",
       "      <th>job</th>\n",
       "    </tr>\n",
       "  </thead>\n",
       "  <tbody>\n",
       "    <tr>\n",
       "      <th>0</th>\n",
       "      <td>1</td>\n",
       "      <td>20</td>\n",
       "      <td>programmer</td>\n",
       "    </tr>\n",
       "    <tr>\n",
       "      <th>1</th>\n",
       "      <td>2</td>\n",
       "      <td>25</td>\n",
       "      <td>engineer</td>\n",
       "    </tr>\n",
       "  </tbody>\n",
       "</table>\n",
       "</div>"
      ],
      "text/plain": [
       "   number  age         job\n",
       "0       1   20  programmer\n",
       "1       2   25    engineer"
      ]
     },
     "execution_count": 12,
     "metadata": {},
     "output_type": "execute_result"
    }
   ],
   "source": [
    "# read csv\n",
    "import pandas as pd\n",
    "data = pd.read_csv('data/sample.csv')\n",
    "data.head()"
   ]
  },
  {
   "cell_type": "code",
   "execution_count": 13,
   "metadata": {},
   "outputs": [
    {
     "data": {
      "text/plain": [
       "0    20\n",
       "1    25\n",
       "Name: age, dtype: int64"
      ]
     },
     "execution_count": 13,
     "metadata": {},
     "output_type": "execute_result"
    }
   ],
   "source": [
    "# display 1 column\n",
    "data['age']"
   ]
  },
  {
   "cell_type": "code",
   "execution_count": 14,
   "metadata": {},
   "outputs": [
    {
     "name": "stdout",
     "output_type": "stream",
     "text": [
      "['programmer', 'engineer']\n"
     ]
    }
   ],
   "source": [
    "# Get unique values\n",
    "print(data['job'].unique().tolist())\n",
    "# Filter data\n",
    "data2 = data[data['age'] >= 21]\n",
    "# Save as csv\n",
    "data2.to_csv('data/new_sample.csv', index=False)"
   ]
  },
  {
   "cell_type": "markdown",
   "metadata": {},
   "source": [
    "## Lab 1 ReadFile"
   ]
  },
  {
   "cell_type": "code",
   "execution_count": 15,
   "metadata": {},
   "outputs": [],
   "source": [
    "# Read the Example1.txt\n",
    "example1 = \"data/Example1.txt\"\n",
    "file1 = open(example1, \"r\")"
   ]
  },
  {
   "cell_type": "code",
   "execution_count": 16,
   "metadata": {},
   "outputs": [
    {
     "data": {
      "text/plain": [
       "'data/Example1.txt'"
      ]
     },
     "execution_count": 16,
     "metadata": {},
     "output_type": "execute_result"
    }
   ],
   "source": [
    "# Print the path of file\n",
    "\n",
    "file1.name"
   ]
  },
  {
   "cell_type": "code",
   "execution_count": 17,
   "metadata": {},
   "outputs": [
    {
     "data": {
      "text/plain": [
       "'r'"
      ]
     },
     "execution_count": 17,
     "metadata": {},
     "output_type": "execute_result"
    }
   ],
   "source": [
    "# Print the mode of file, either 'r' or 'w'\n",
    "\n",
    "file1.mode"
   ]
  },
  {
   "cell_type": "code",
   "execution_count": 18,
   "metadata": {},
   "outputs": [
    {
     "data": {
      "text/plain": [
       "'This is line 1 \\nThis is line 2\\nThis is line 3'"
      ]
     },
     "execution_count": 18,
     "metadata": {},
     "output_type": "execute_result"
    }
   ],
   "source": [
    "# Read the file\n",
    "\n",
    "FileContent = file1.read()\n",
    "FileContent"
   ]
  },
  {
   "cell_type": "code",
   "execution_count": 19,
   "metadata": {},
   "outputs": [
    {
     "name": "stdout",
     "output_type": "stream",
     "text": [
      "This is line 1 \n",
      "This is line 2\n",
      "This is line 3\n"
     ]
    }
   ],
   "source": [
    "# Print the file with '\\n' as a new line\n",
    "\n",
    "print(FileContent)"
   ]
  },
  {
   "cell_type": "code",
   "execution_count": 20,
   "metadata": {},
   "outputs": [
    {
     "data": {
      "text/plain": [
       "str"
      ]
     },
     "execution_count": 20,
     "metadata": {},
     "output_type": "execute_result"
    }
   ],
   "source": [
    "# Type of file content\n",
    "\n",
    "type(FileContent)"
   ]
  },
  {
   "cell_type": "code",
   "execution_count": 21,
   "metadata": {},
   "outputs": [],
   "source": [
    "# Close file after finish\n",
    "\n",
    "file1.close()"
   ]
  },
  {
   "cell_type": "markdown",
   "metadata": {},
   "source": [
    "###  Mejor manera de abrir archivos"
   ]
  },
  {
   "cell_type": "code",
   "execution_count": 22,
   "metadata": {},
   "outputs": [
    {
     "name": "stdout",
     "output_type": "stream",
     "text": [
      "This is line 1 \n",
      "This is line 2\n",
      "This is line 3\n"
     ]
    }
   ],
   "source": [
    "# Open file using with\n",
    "\n",
    "with open(example1, \"r\") as file1:\n",
    "    FileContent = file1.read()\n",
    "    print(FileContent)"
   ]
  },
  {
   "cell_type": "code",
   "execution_count": 23,
   "metadata": {},
   "outputs": [
    {
     "data": {
      "text/plain": [
       "True"
      ]
     },
     "execution_count": 23,
     "metadata": {},
     "output_type": "execute_result"
    }
   ],
   "source": [
    "# Verify if the file is closed\n",
    "\n",
    "file1.closed"
   ]
  },
  {
   "cell_type": "code",
   "execution_count": 24,
   "metadata": {},
   "outputs": [
    {
     "name": "stdout",
     "output_type": "stream",
     "text": [
      "This is line 1 \n",
      "This is line 2\n",
      "This is line 3\n"
     ]
    }
   ],
   "source": [
    "# See the content of file\n",
    "\n",
    "print(FileContent)"
   ]
  },
  {
   "cell_type": "code",
   "execution_count": 25,
   "metadata": {},
   "outputs": [
    {
     "name": "stdout",
     "output_type": "stream",
     "text": [
      "This\n"
     ]
    }
   ],
   "source": [
    "# Read first four characters\n",
    "\n",
    "with open(example1, \"r\") as file1:\n",
    "    print(file1.read(4))"
   ]
  },
  {
   "cell_type": "code",
   "execution_count": 26,
   "metadata": {},
   "outputs": [
    {
     "name": "stdout",
     "output_type": "stream",
     "text": [
      "This\n",
      " is \n",
      "line 1 \n",
      "\n",
      "This is line 2\n"
     ]
    }
   ],
   "source": [
    "# Read certain amount of characters\n",
    "\n",
    "with open(example1, \"r\") as file1:\n",
    "    print(file1.read(4))\n",
    "    print(file1.read(4))\n",
    "    print(file1.read(7))\n",
    "    print(file1.read(15))"
   ]
  },
  {
   "cell_type": "code",
   "execution_count": 27,
   "metadata": {},
   "outputs": [
    {
     "name": "stdout",
     "output_type": "stream",
     "text": [
      "This is line 1 \n",
      "\n",
      "This \n",
      "is line 2\n"
     ]
    }
   ],
   "source": [
    "# Read certain amount of characters\n",
    "\n",
    "with open(example1, \"r\") as file1:\n",
    "    print(file1.read(16))\n",
    "    print(file1.read(5))\n",
    "    print(file1.read(9))"
   ]
  },
  {
   "cell_type": "code",
   "execution_count": 28,
   "metadata": {},
   "outputs": [
    {
     "name": "stdout",
     "output_type": "stream",
     "text": [
      "first line: This is line 1 \n",
      "\n"
     ]
    }
   ],
   "source": [
    "# Read one line\n",
    "\n",
    "with open(example1, \"r\") as file1:\n",
    "    print(\"first line: \" + file1.readline())"
   ]
  },
  {
   "cell_type": "code",
   "execution_count": 29,
   "metadata": {},
   "outputs": [
    {
     "name": "stdout",
     "output_type": "stream",
     "text": [
      "This is line 1 \n",
      "\n",
      "This is line 2\n",
      "This \n"
     ]
    }
   ],
   "source": [
    "with open(example1, \"r\") as file1:\n",
    "    print(file1.readline(20)) # does not read past the end of line\n",
    "    print(file1.read(20)) # Returns the next 20 chars"
   ]
  },
  {
   "cell_type": "code",
   "execution_count": 30,
   "metadata": {},
   "outputs": [
    {
     "name": "stdout",
     "output_type": "stream",
     "text": [
      "Iteration 0 :  This is line 1 \n",
      "\n",
      "Iteration 1 :  This is line 2\n",
      "\n",
      "Iteration 2 :  This is line 3\n"
     ]
    }
   ],
   "source": [
    "# Iterate through the lines\n",
    "\n",
    "with open(example1,\"r\") as file1:\n",
    "        i = 0;\n",
    "        for line in file1:\n",
    "            print(\"Iteration\", str(i), \": \", line)\n",
    "            i = i + 1"
   ]
  },
  {
   "cell_type": "code",
   "execution_count": 31,
   "metadata": {},
   "outputs": [],
   "source": [
    "# Read all lines and save as a list\n",
    "\n",
    "with open(example1, \"r\") as file1:\n",
    "    FileasList = file1.readlines()"
   ]
  },
  {
   "cell_type": "code",
   "execution_count": 32,
   "metadata": {},
   "outputs": [
    {
     "data": {
      "text/plain": [
       "'This is line 1 \\n'"
      ]
     },
     "execution_count": 32,
     "metadata": {},
     "output_type": "execute_result"
    }
   ],
   "source": [
    "# Print the first line\n",
    "\n",
    "FileasList[0]"
   ]
  },
  {
   "cell_type": "code",
   "execution_count": 33,
   "metadata": {},
   "outputs": [
    {
     "data": {
      "text/plain": [
       "'This is line 3'"
      ]
     },
     "execution_count": 33,
     "metadata": {},
     "output_type": "execute_result"
    }
   ],
   "source": [
    "# Print the third line\n",
    "\n",
    "FileasList[2]"
   ]
  },
  {
   "cell_type": "markdown",
   "metadata": {},
   "source": [
    "## Lab 2 writing files"
   ]
  },
  {
   "cell_type": "code",
   "execution_count": 34,
   "metadata": {},
   "outputs": [],
   "source": [
    "# Write line to file\n",
    "exmp2 = 'data/Example2.txt'\n",
    "with open(exmp2, 'w') as writefile:\n",
    "    writefile.write(\"This is line A\")"
   ]
  },
  {
   "cell_type": "code",
   "execution_count": 35,
   "metadata": {},
   "outputs": [
    {
     "name": "stdout",
     "output_type": "stream",
     "text": [
      "This is line A\n"
     ]
    }
   ],
   "source": [
    "# Read file\n",
    "\n",
    "with open(exmp2, 'r') as testwritefile:\n",
    "    print(testwritefile.read())"
   ]
  },
  {
   "cell_type": "code",
   "execution_count": 36,
   "metadata": {},
   "outputs": [],
   "source": [
    "# Write lines to file\n",
    "\n",
    "with open(exmp2, 'w') as writefile:\n",
    "    writefile.write(\"This is line A\\n\")\n",
    "    writefile.write(\"This is line B\\n\")"
   ]
  },
  {
   "cell_type": "code",
   "execution_count": 37,
   "metadata": {},
   "outputs": [
    {
     "name": "stdout",
     "output_type": "stream",
     "text": [
      "This is line A\n",
      "This is line B\n",
      "\n"
     ]
    }
   ],
   "source": [
    "# Check whether write to file\n",
    "\n",
    "with open(exmp2, 'r') as testwritefile:\n",
    "    print(testwritefile.read())"
   ]
  },
  {
   "cell_type": "code",
   "execution_count": 38,
   "metadata": {},
   "outputs": [
    {
     "data": {
      "text/plain": [
       "['This is line A\\n', 'This is line B\\n', 'This is line C\\n']"
      ]
     },
     "execution_count": 38,
     "metadata": {},
     "output_type": "execute_result"
    }
   ],
   "source": [
    "# Sample list of text\n",
    "\n",
    "Lines = [\"This is line A\\n\", \"This is line B\\n\", \"This is line C\\n\"]\n",
    "Lines"
   ]
  },
  {
   "cell_type": "code",
   "execution_count": 39,
   "metadata": {},
   "outputs": [
    {
     "name": "stdout",
     "output_type": "stream",
     "text": [
      "This is line A\n",
      "\n",
      "This is line B\n",
      "\n",
      "This is line C\n",
      "\n"
     ]
    }
   ],
   "source": [
    "# Write the strings in the list to text file\n",
    "\n",
    "with open('data/Example2.txt', 'w') as writefile:\n",
    "    for line in Lines:\n",
    "        print(line)\n",
    "        writefile.write(line)"
   ]
  },
  {
   "cell_type": "code",
   "execution_count": 40,
   "metadata": {},
   "outputs": [
    {
     "name": "stdout",
     "output_type": "stream",
     "text": [
      "This is line A\n",
      "This is line B\n",
      "This is line C\n",
      "\n"
     ]
    }
   ],
   "source": [
    "# Verify if writing to file is successfully executed\n",
    "\n",
    "with open('data/Example2.txt', 'r') as testwritefile:\n",
    "    print(testwritefile.read())"
   ]
  },
  {
   "cell_type": "code",
   "execution_count": 41,
   "metadata": {},
   "outputs": [
    {
     "name": "stdout",
     "output_type": "stream",
     "text": [
      "Overwrite\n",
      "\n"
     ]
    }
   ],
   "source": [
    "# Elmetodo w sobreescribe todo el archivo\n",
    "with open('data/Example2.txt', 'w') as writefile:\n",
    "    writefile.write(\"Overwrite\\n\")\n",
    "with open('data/Example2.txt', 'r') as testwritefile:\n",
    "    print(testwritefile.read())"
   ]
  },
  {
   "cell_type": "markdown",
   "metadata": {},
   "source": [
    "### Appending files"
   ]
  },
  {
   "cell_type": "code",
   "execution_count": 42,
   "metadata": {},
   "outputs": [],
   "source": [
    "# Write a new line to text file\n",
    "\n",
    "with open('data/Example2.txt', 'a') as testwritefile:\n",
    "    testwritefile.write(\"This is line C\\n\")\n",
    "    testwritefile.write(\"This is line D\\n\")\n",
    "    testwritefile.write(\"This is line E\\n\")"
   ]
  },
  {
   "cell_type": "code",
   "execution_count": 43,
   "metadata": {},
   "outputs": [
    {
     "name": "stdout",
     "output_type": "stream",
     "text": [
      "Overwrite\n",
      "This is line C\n",
      "This is line D\n",
      "This is line E\n",
      "\n"
     ]
    }
   ],
   "source": [
    "# Verify if the new line is in the text file\n",
    "\n",
    "with open('data/Example2.txt', 'r') as testwritefile:\n",
    "    print(testwritefile.read())"
   ]
  },
  {
   "cell_type": "code",
   "execution_count": 44,
   "metadata": {},
   "outputs": [
    {
     "name": "stdout",
     "output_type": "stream",
     "text": [
      "\n"
     ]
    }
   ],
   "source": [
    "# appending and read\n",
    "with open('data/Example2.txt', 'a+') as testwritefile:\n",
    "    testwritefile.write(\"This is line E\\n\")\n",
    "    print(testwritefile.read())"
   ]
  },
  {
   "cell_type": "code",
   "execution_count": 45,
   "metadata": {},
   "outputs": [
    {
     "name": "stdout",
     "output_type": "stream",
     "text": [
      "Initial Location: 70\n",
      "Read nothing\n",
      "\n",
      "New Location : 0\n",
      "Overwrite\n",
      "This is line C\n",
      "This is line D\n",
      "This is line E\n",
      "This is line E\n",
      "\n",
      "Location after read: 70\n"
     ]
    }
   ],
   "source": [
    "with open('data/Example2.txt', 'a+') as testwritefile:\n",
    "    print(\"Initial Location: {}\".format(testwritefile.tell()))\n",
    "    \n",
    "    data = testwritefile.read()\n",
    "    if (not data):  #empty strings return false in python\n",
    "            print('Read nothing') \n",
    "    else: \n",
    "            print(testwritefile.read())\n",
    "            \n",
    "    testwritefile.seek(0,0) # move 0 bytes from beginning.\n",
    "    \n",
    "    print(\"\\nNew Location : {}\".format(testwritefile.tell()))\n",
    "    data = testwritefile.read()\n",
    "    if (not data): \n",
    "            print('Read nothing') \n",
    "    else: \n",
    "            print(data)\n",
    "    \n",
    "    print(\"Location after read: {}\".format(testwritefile.tell()) )"
   ]
  },
  {
   "cell_type": "code",
   "execution_count": 46,
   "metadata": {},
   "outputs": [
    {
     "name": "stdout",
     "output_type": "stream",
     "text": [
      "Line 1\n",
      "Line 2\n",
      "Line 3\n",
      "finished\n",
      "is line D\n",
      "This is line E\n",
      "This is line E\n",
      "\n"
     ]
    }
   ],
   "source": [
    "with open('data/Example2.txt', 'r+') as testwritefile:\n",
    "    data = testwritefile.readlines()\n",
    "    testwritefile.seek(0,0) #write at beginning of file\n",
    "   \n",
    "    testwritefile.write(\"Line 1\" + \"\\n\")\n",
    "    testwritefile.write(\"Line 2\" + \"\\n\")\n",
    "    testwritefile.write(\"Line 3\" + \"\\n\")\n",
    "    testwritefile.write(\"finished\\n\")\n",
    "    #Uncomment the line below\n",
    "    #testwritefile.truncate()\n",
    "    testwritefile.seek(0,0)\n",
    "    print(testwritefile.read())"
   ]
  },
  {
   "cell_type": "code",
   "execution_count": 47,
   "metadata": {},
   "outputs": [],
   "source": [
    "# Copy file to another\n",
    "\n",
    "with open('data/Example2.txt','r') as readfile:\n",
    "    with open('data/Example3.txt','w') as writefile:\n",
    "          for line in readfile:\n",
    "                writefile.write(line)"
   ]
  }
 ],
 "metadata": {
  "interpreter": {
   "hash": "e7b3cfdbed4b8f25d753bb32bf35bb23d849df51286b88943800d9a0c0781f47"
  },
  "kernelspec": {
   "display_name": "Python 3.8.5 64-bit ('base': conda)",
   "language": "python",
   "name": "python3"
  },
  "language_info": {
   "codemirror_mode": {
    "name": "ipython",
    "version": 3
   },
   "file_extension": ".py",
   "mimetype": "text/x-python",
   "name": "python",
   "nbconvert_exporter": "python",
   "pygments_lexer": "ipython3",
   "version": "3.8.5"
  },
  "orig_nbformat": 4
 },
 "nbformat": 4,
 "nbformat_minor": 2
}
