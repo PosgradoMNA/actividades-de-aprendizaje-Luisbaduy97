{
 "cells": [
  {
   "cell_type": "markdown",
   "metadata": {},
   "source": [
    "<a href=\"https://colab.research.google.com/github/PosgradoMNA/actividades-de-aprendizaje-Luisbaduy97/blob/main/python_for_data_science_course/module_2.ipynb\" target=\"_parent\"><img src=\"https://colab.research.google.com/assets/colab-badge.svg\" alt=\"Open In Colab\"/></a>"
   ]
  },
  {
   "cell_type": "markdown",
   "metadata": {},
   "source": [
    "## Alumno: Luis Jose Navarrete Baduy\n",
    "## Matricula: A01793919"
   ]
  },
  {
   "cell_type": "markdown",
   "metadata": {},
   "source": [
    "# Notas del curso python for data science module 2"
   ]
  },
  {
   "cell_type": "markdown",
   "metadata": {},
   "source": [
    "### Tuplas\n",
    "* Son una secuencia ordenada\n",
    "* Los elementos en la tupla se separan por comas dentro del parentesis\n",
    "* Las tuplas son inmutables y las variables hacer referencias a ellas"
   ]
  },
  {
   "cell_type": "code",
   "execution_count": 2,
   "metadata": {},
   "outputs": [
    {
     "ename": "TypeError",
     "evalue": "'tuple' object does not support item assignment",
     "output_type": "error",
     "traceback": [
      "\u001b[0;31m---------------------------------------------------------------------------\u001b[0m",
      "\u001b[0;31mTypeError\u001b[0m                                 Traceback (most recent call last)",
      "Cell \u001b[0;32mIn [2], line 2\u001b[0m\n\u001b[1;32m      1\u001b[0m t1 \u001b[38;5;241m=\u001b[39m (\u001b[38;5;241m1\u001b[39m,\u001b[38;5;241m2\u001b[39m,\u001b[38;5;241m3\u001b[39m,\u001b[38;5;241m4\u001b[39m,\u001b[38;5;241m5\u001b[39m,\u001b[38;5;241m6\u001b[39m)\n\u001b[0;32m----> 2\u001b[0m \u001b[43mt1\u001b[49m\u001b[43m[\u001b[49m\u001b[38;5;241;43m2\u001b[39;49m\u001b[43m]\u001b[49m \u001b[38;5;241m=\u001b[39m \u001b[38;5;241m4\u001b[39m\n",
      "\u001b[0;31mTypeError\u001b[0m: 'tuple' object does not support item assignment"
     ]
    }
   ],
   "source": [
    "t1 = (1,2,3,4,5,6)\n",
    "t1[2] = 4 # No se pueden asignar nuevos valores, error forzado"
   ]
  },
  {
   "cell_type": "code",
   "execution_count": 3,
   "metadata": {},
   "outputs": [
    {
     "name": "stdout",
     "output_type": "stream",
     "text": [
      "(1, 2, (3, 4), 4, 5)\n"
     ]
    }
   ],
   "source": [
    "t = (1,2,(3,4),4,5) # Una tupla puede contener tuplas\n",
    "print(t)"
   ]
  },
  {
   "cell_type": "markdown",
   "metadata": {},
   "source": [
    "### Listas\n",
    "* Son mutables\n",
    "* Igual son una secuencia ordenada\n",
    "* Se aplican las mismas reglas de indexado que con las tuplas\n",
    "* Las variables hacen referencia a la lista por lo que cambiar el valor en la variable A se mostrara en B"
   ]
  },
  {
   "cell_type": "code",
   "execution_count": 7,
   "metadata": {},
   "outputs": [
    {
     "name": "stdout",
     "output_type": "stream",
     "text": [
      "['Michael Jackson', 10, 1.2, 2, 3]\n",
      "['Michael Jackson', 10, 1.2, 2, 3, [4, 5]]\n",
      "[10, 1.2, 2, 3, [4, 5]]\n"
     ]
    }
   ],
   "source": [
    "L = ['Michael Jackson', 10, 1.2]\n",
    "L.extend([2,3]) # Extiende la lista original\n",
    "print(L)\n",
    "L.append([4,5]) # Lo agrega como una lista anidada\n",
    "print(L)\n",
    "del(L[0]) # Elimina el primer registro de la lista\n",
    "print(L)"
   ]
  },
  {
   "cell_type": "markdown",
   "metadata": {},
   "source": [
    "### Sets\n",
    "* No son una secuencia ordenada por lo que no tiene indice\n",
    "* Solo puede tener elementos únicos"
   ]
  },
  {
   "cell_type": "code",
   "execution_count": 5,
   "metadata": {},
   "outputs": [
    {
     "name": "stdout",
     "output_type": "stream",
     "text": [
      "{1, 3, 4, 'Thriller', 'Michael Jackson'}\n",
      "{1, 3, 4, 'Thriller', 'Beyonce', 'Michael Jackson'}\n",
      "True\n",
      "{'Michael Jackson', 'Thriller'}\n",
      "True\n"
     ]
    }
   ],
   "source": [
    "my_list = [\"Thriller\", 1, 3, 4, \"Michael Jackson\", 4, 3]\n",
    "my_set_1 = set(my_list)\n",
    "print(my_set_1) # Remueve los duplicados\n",
    "my_set_1.add(\"Beyonce\")\n",
    "print(my_set_1) # Agrega un nuevo elemento\n",
    "print(\"Beyonce\" in my_set_1) # Ver si el elemento existe en el set\n",
    "my_list_2 = [\"Thriller\", \"Michael Jackson\"]\n",
    "my_set_2 = set(my_list_2)\n",
    "print(my_set_1 & my_set_2) # Obtener los elementos en comun\n",
    "print(my_set_2.issubset(my_set_1)) # Ver si el set 2 es un subconjunto del set 1"
   ]
  },
  {
   "cell_type": "markdown",
   "metadata": {},
   "source": [
    "### Dictionaries\n",
    "* No se utiliza indice sino llave y valor\n",
    "* Las llaves deben ser unicas e inmutables\n",
    "* Los valores pueden ser mutables, inmutables y duplicados"
   ]
  },
  {
   "cell_type": "code",
   "execution_count": 9,
   "metadata": {},
   "outputs": [
    {
     "name": "stdout",
     "output_type": "stream",
     "text": [
      "{'id': 1, 'name': 'Luis', 'lastname': 'Navarrete'}\n",
      "Luis\n",
      "{'id': 1, 'name': 'Carlos', 'lastname': 'Navarrete'}\n",
      "Carlos\n"
     ]
    }
   ],
   "source": [
    "my_dict = {\"id\": 1, \"name\": \"Luis\", \"lastname\": \"Navarrete\"}\n",
    "print(my_dict)\n",
    "print(my_dict[\"name\"]) # Obtener el valor de una llave\n",
    "my_dict[\"name\"] = \"Carlos\"\n",
    "print(my_dict)\n",
    "print(my_dict[\"name\"]) # Obtener el valor de una llave"
   ]
  }
 ],
 "metadata": {
  "kernelspec": {
   "display_name": "Python 3.8.10 64-bit",
   "language": "python",
   "name": "python3"
  },
  "language_info": {
   "codemirror_mode": {
    "name": "ipython",
    "version": 3
   },
   "file_extension": ".py",
   "mimetype": "text/x-python",
   "name": "python",
   "nbconvert_exporter": "python",
   "pygments_lexer": "ipython3",
   "version": "3.8.10"
  },
  "orig_nbformat": 4,
  "vscode": {
   "interpreter": {
    "hash": "e7370f93d1d0cde622a1f8e1c04877d8463912d04d973331ad4851f04de6915a"
   }
  }
 },
 "nbformat": 4,
 "nbformat_minor": 2
}
