{
 "cells": [
  {
   "cell_type": "markdown",
   "metadata": {},
   "source": [
    "<a href=\"https://colab.research.google.com/github/tec03/ParaAssignment01-/blob/main/assignment01.ipynb\" target=\"_parent\"><img src=\"https://colab.research.google.com/assets/colab-badge.svg\" alt=\"Open In Colab\"/></a>"
   ]
  },
  {
   "cell_type": "markdown",
   "metadata": {},
   "source": [
    "# Notas del curso python for data science module 1"
   ]
  },
  {
   "cell_type": "code",
   "execution_count": 1,
   "metadata": {},
   "outputs": [
    {
     "name": "stdout",
     "output_type": "stream",
     "text": [
      "Hello Python 101\n",
      "Hello\n",
      "World!\n"
     ]
    }
   ],
   "source": [
    "# This will display the value in the ouput cell\n",
    "print('Hello Python 101')\n",
    "print(\"Hello\\nWorld!\")"
   ]
  },
  {
   "cell_type": "markdown",
   "metadata": {},
   "source": [
    "## Data types in python"
   ]
  },
  {
   "cell_type": "code",
   "execution_count": 2,
   "metadata": {},
   "outputs": [
    {
     "name": "stdout",
     "output_type": "stream",
     "text": [
      "This is an <class 'int'>\n",
      "This is an <class 'float'>\n",
      "This is an <class 'bool'>\n",
      "True\n"
     ]
    }
   ],
   "source": [
    "print('This is an', type(1))\n",
    "print('This is an', type(1.0))\n",
    "print('This is an', type(False))\n",
    "# Convert integer to boolean\n",
    "print(bool(1))"
   ]
  },
  {
   "cell_type": "markdown",
   "metadata": {},
   "source": [
    "## Expressions and Variables\n",
    "\n",
    "Python sigue la jerarquia de operaciones asi que utiliza operaciones aritmeticas basicas como +-/*"
   ]
  },
  {
   "cell_type": "code",
   "execution_count": 3,
   "metadata": {},
   "outputs": [
    {
     "name": "stdout",
     "output_type": "stream",
     "text": [
      "40\n",
      "-10\n",
      "400\n",
      "1.0\n",
      "1\n"
     ]
    }
   ],
   "source": [
    "print(20+20)\n",
    "print(20-30)\n",
    "print(20*20)\n",
    "print(20/20)\n",
    "# Desde python 3 la division regresa un float, si se quiere el numero entero se utiliza el portador //\n",
    "print(20//20)"
   ]
  },
  {
   "cell_type": "markdown",
   "metadata": {},
   "source": [
    "Se pueden utilizar variables para almacenar valores"
   ]
  },
  {
   "cell_type": "code",
   "execution_count": 4,
   "metadata": {},
   "outputs": [
    {
     "name": "stdout",
     "output_type": "stream",
     "text": [
      "1\n",
      "610\n"
     ]
    }
   ],
   "source": [
    "my_variable = 1\n",
    "print(my_variable)\n",
    "# Se pueden realizar operaciones en las variables\n",
    "foo = 30 * 20 + 10\n",
    "print(foo)"
   ]
  },
  {
   "cell_type": "markdown",
   "metadata": {},
   "source": [
    "## String operations\n",
    "\n",
    "En python un string es una secuencia de caracteres y cada elemento puede ser accesado mediante su indice en el arreglo."
   ]
  },
  {
   "cell_type": "code",
   "execution_count": 5,
   "metadata": {},
   "outputs": [
    {
     "name": "stdout",
     "output_type": "stream",
     "text": [
      "M\n",
      "son\n",
      "McalJcsn\n",
      "Michael Jackson was the best\n",
      "MICHAEL JACKSON WAS THE BEST\n",
      "Janet Jackson was the best\n",
      "0\n"
     ]
    }
   ],
   "source": [
    "my_string = 'Michael Jackson'\n",
    "print(my_string[0]) # El primer elemento del arreglo\n",
    "print(my_string[-3:]) # Obtener los ultimos tres elementos del arreglo\n",
    "print(my_string[::2]) # Obtener los elementos impares\n",
    "# Concatenar strings\n",
    "best = my_string + ' was the best'\n",
    "print(best)\n",
    "\n",
    "print(best.upper()) # convierte el string a uppercase\n",
    "print(best.replace('Michael', 'Janet')) # reemplaza Michael por Janet\n",
    "print(best.find('Michael')) # encuentra el string dentro del texto, si no lo encuentra regresa -1"
   ]
  },
  {
   "cell_type": "code",
   "execution_count": 6,
   "metadata": {},
   "outputs": [
    {
     "name": "stdout",
     "output_type": "stream",
     "text": [
      "0246\n",
      "1\n"
     ]
    }
   ],
   "source": [
    "numbers = \"0123456\"\n",
    "print(numbers[::2])\n",
    "print(\"0123456\".find('1'))"
   ]
  }
 ],
 "metadata": {
  "interpreter": {
   "hash": "e7b3cfdbed4b8f25d753bb32bf35bb23d849df51286b88943800d9a0c0781f47"
  },
  "kernelspec": {
   "display_name": "Python 3.8.5 64-bit ('base': conda)",
   "language": "python",
   "name": "python3"
  },
  "language_info": {
   "codemirror_mode": {
    "name": "ipython",
    "version": 3
   },
   "file_extension": ".py",
   "mimetype": "text/x-python",
   "name": "python",
   "nbconvert_exporter": "python",
   "pygments_lexer": "ipython3",
   "version": "3.8.5"
  },
  "orig_nbformat": 4
 },
 "nbformat": 4,
 "nbformat_minor": 2
}
